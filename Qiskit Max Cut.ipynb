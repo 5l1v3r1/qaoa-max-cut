{
 "cells": [
  {
   "cell_type": "code",
   "execution_count": 1,
   "metadata": {},
   "outputs": [],
   "source": [
    "import warnings\n",
    "warnings.filterwarnings('ignore')\n",
    "import matplotlib.pyplot as plt\n",
    "from IPython.display import display, HTML\n",
    "import numpy as np\n",
    "import networkx as nx\n",
    "from qiskit import BasicAer\n",
    "from qiskit.aqua.translators.ising import max_cut\n",
    "from qiskit.aqua import QuantumInstance\n",
    "from qiskit.aqua.components.optimizers.nlopts.esch import ESCH\n",
    "from qiskit.aqua.algorithms import QAOA\n",
    "from qiskit.quantum_info import Pauli\n",
    "from qiskit.aqua import Operator\n",
    "import pandas as pd"
   ]
  },
  {
   "cell_type": "code",
   "execution_count": 2,
   "metadata": {},
   "outputs": [
    {
     "data": {
      "text/html": [
       "<h1>Generate graph and plot it</h1>"
      ],
      "text/plain": [
       "<IPython.core.display.HTML object>"
      ]
     },
     "metadata": {},
     "output_type": "display_data"
    }
   ],
   "source": [
    "display(HTML('<h1>Generate graph and plot it</h1>'))"
   ]
  },
  {
   "cell_type": "code",
   "execution_count": 4,
   "metadata": {},
   "outputs": [
    {
     "data": {
      "image/png": "[encoded data removed]",
      "text/plain": [
       "<Figure size 432x288 with 1 Axes>"
      ]
     },
     "metadata": {
      "needs_background": "light"
     },
     "output_type": "display_data"
    }
   ],
   "source": [
    "n = 6  # Number of nodes in graph\n",
    "G = nx.Graph()\n",
    "G.add_nodes_from(np.arange(0, n, 1))\n",
    "elist = [(0, 1, 1.0), (0, 2, 1.0), (0, 3, 1.0), (0, 4, 1.0), (1, 2, 1.0), (1, 5, 1.0), (4, 5, 1.0), (2, 3, 1.0)]\n",
    "G.add_weighted_edges_from(elist)\n",
    "\n",
    "colors = ['r' for node in G.nodes()]\n",
    "pos = nx.spring_layout(G)\n",
    "default_axes = plt.axes(frameon=True)\n",
    "nx.draw_networkx(G, node_color=colors, node_size=600, alpha=.8, ax=default_axes, pos=pos)\n",
    "plt.show()"
   ]
  },
  {
   "cell_type": "code",
   "execution_count": 5,
   "metadata": {},
   "outputs": [
    {
     "data": {
      "text/html": [
       "<h1>Generate adjacency matrix</h1>"
      ],
      "text/plain": [
       "<IPython.core.display.HTML object>"
      ]
     },
     "metadata": {},
     "output_type": "display_data"
    }
   ],
   "source": [
    "display(HTML('<h1>Generate adjacency matrix</h1>'))"
   ]
  },
  {
   "cell_type": "code",
   "execution_count": 6,
   "metadata": {},
   "outputs": [
    {
     "name": "stdout",
     "output_type": "stream",
     "text": [
      "weigth matrix\n",
      "[[0. 1. 1. 1. 1. 0.]\n",
      " [1. 0. 1. 0. 0. 1.]\n",
      " [1. 1. 0. 1. 0. 0.]\n",
      " [1. 0. 1. 0. 0. 0.]\n",
      " [1. 0. 0. 0. 0. 1.]\n",
      " [0. 1. 0. 0. 1. 0.]]\n"
     ]
    }
   ],
   "source": [
    "w = np.zeros([n, n])\n",
    "for i in range(n):\n",
    "    for j in range(n):\n",
    "        temp = G.get_edge_data(i, j, default=0)\n",
    "        if temp != 0:\n",
    "            w[i, j] = temp['weight']\n",
    "\n",
    "print(\"weigth matrix\")\n",
    "print(w)"
   ]
  },
  {
   "cell_type": "code",
   "execution_count": 7,
   "metadata": {},
   "outputs": [
    {
     "data": {
      "text/html": [
       "<h1>Classical Brute Force algorithm</h1>"
      ],
      "text/plain": [
       "<IPython.core.display.HTML object>"
      ]
     },
     "metadata": {},
     "output_type": "display_data"
    }
   ],
   "source": [
    "display(HTML('<h1>Classical Brute Force algorithm</h1>'))"
   ]
  },
  {
   "cell_type": "code",
   "execution_count": 8,
   "metadata": {},
   "outputs": [
    {
     "name": "stdout",
     "output_type": "stream",
     "text": [
      "case = [0, 0, 0, 0, 0, 0] cost = 0.0\n",
      "case = [1, 0, 0, 0, 0, 0] cost = 4.0\n",
      "case = [0, 1, 0, 0, 0, 0] cost = 3.0\n",
      "case = [1, 1, 0, 0, 0, 0] cost = 5.0\n",
      "case = [0, 0, 1, 0, 0, 0] cost = 3.0\n",
      "case = [1, 0, 1, 0, 0, 0] cost = 5.0\n",
      "case = [0, 1, 1, 0, 0, 0] cost = 4.0\n",
      "case = [1, 1, 1, 0, 0, 0] cost = 4.0\n",
      "case = [0, 0, 0, 1, 0, 0] cost = 2.0\n",
      "case = [1, 0, 0, 1, 0, 0] cost = 4.0\n",
      "case = [0, 1, 0, 1, 0, 0] cost = 5.0\n",
      "case = [1, 1, 0, 1, 0, 0] cost = 5.0\n",
      "case = [0, 0, 1, 1, 0, 0] cost = 3.0\n",
      "case = [1, 0, 1, 1, 0, 0] cost = 3.0\n",
      "case = [0, 1, 1, 1, 0, 0] cost = 4.0\n",
      "case = [1, 1, 1, 1, 0, 0] cost = 2.0\n",
      "case = [0, 0, 0, 0, 1, 0] cost = 2.0\n",
      "case = [1, 0, 0, 0, 1, 0] cost = 4.0\n",
      "case = [0, 1, 0, 0, 1, 0] cost = 5.0\n",
      "case = [1, 1, 0, 0, 1, 0] cost = 5.0\n",
      "case = [0, 0, 1, 0, 1, 0] cost = 5.0\n",
      "case = [1, 0, 1, 0, 1, 0] cost = 5.0\n",
      "case = [0, 1, 1, 0, 1, 0] cost = 6.0\n",
      "case = [1, 1, 1, 0, 1, 0] cost = 4.0\n",
      "case = [0, 0, 0, 1, 1, 0] cost = 4.0\n",
      "case = [1, 0, 0, 1, 1, 0] cost = 4.0\n",
      "case = [0, 1, 0, 1, 1, 0] cost = 7.0\n",
      "case = [1, 1, 0, 1, 1, 0] cost = 5.0\n",
      "case = [0, 0, 1, 1, 1, 0] cost = 5.0\n",
      "case = [1, 0, 1, 1, 1, 0] cost = 3.0\n",
      "case = [0, 1, 1, 1, 1, 0] cost = 6.0\n",
      "case = [1, 1, 1, 1, 1, 0] cost = 2.0\n",
      "case = [0, 0, 0, 0, 0, 1] cost = 2.0\n",
      "case = [1, 0, 0, 0, 0, 1] cost = 6.0\n",
      "case = [0, 1, 0, 0, 0, 1] cost = 3.0\n",
      "case = [1, 1, 0, 0, 0, 1] cost = 5.0\n",
      "case = [0, 0, 1, 0, 0, 1] cost = 5.0\n",
      "case = [1, 0, 1, 0, 0, 1] cost = 7.0\n",
      "case = [0, 1, 1, 0, 0, 1] cost = 4.0\n",
      "case = [1, 1, 1, 0, 0, 1] cost = 4.0\n",
      "case = [0, 0, 0, 1, 0, 1] cost = 4.0\n",
      "case = [1, 0, 0, 1, 0, 1] cost = 6.0\n",
      "case = [0, 1, 0, 1, 0, 1] cost = 5.0\n",
      "case = [1, 1, 0, 1, 0, 1] cost = 5.0\n",
      "case = [0, 0, 1, 1, 0, 1] cost = 5.0\n",
      "case = [1, 0, 1, 1, 0, 1] cost = 5.0\n",
      "case = [0, 1, 1, 1, 0, 1] cost = 4.0\n",
      "case = [1, 1, 1, 1, 0, 1] cost = 2.0\n",
      "case = [0, 0, 0, 0, 1, 1] cost = 2.0\n",
      "case = [1, 0, 0, 0, 1, 1] cost = 4.0\n",
      "case = [0, 1, 0, 0, 1, 1] cost = 3.0\n",
      "case = [1, 1, 0, 0, 1, 1] cost = 3.0\n",
      "case = [0, 0, 1, 0, 1, 1] cost = 5.0\n",
      "case = [1, 0, 1, 0, 1, 1] cost = 5.0\n",
      "case = [0, 1, 1, 0, 1, 1] cost = 4.0\n",
      "case = [1, 1, 1, 0, 1, 1] cost = 2.0\n",
      "case = [0, 0, 0, 1, 1, 1] cost = 4.0\n",
      "case = [1, 0, 0, 1, 1, 1] cost = 4.0\n",
      "case = [0, 1, 0, 1, 1, 1] cost = 5.0\n",
      "case = [1, 1, 0, 1, 1, 1] cost = 3.0\n",
      "case = [0, 0, 1, 1, 1, 1] cost = 5.0\n",
      "case = [1, 0, 1, 1, 1, 1] cost = 3.0\n",
      "case = [0, 1, 1, 1, 1, 1] cost = 4.0\n",
      "case = [1, 1, 1, 1, 1, 1] cost = 0.0\n",
      "\n",
      "Best solution = [0, 1, 0, 1, 1, 0] cost = 7.0\n"
     ]
    }
   ],
   "source": [
    "best_cost_brute = 0\n",
    "for b in range(2**n):\n",
    "    x = [int(t) for t in reversed(list(bin(b)[2:].zfill(n)))]\n",
    "    cost = 0\n",
    "    for i in range(n):\n",
    "        for j in range(n):\n",
    "            cost = cost + w[i, j]*x[i]*(1-x[j])\n",
    "    if best_cost_brute < cost:\n",
    "        best_cost_brute = cost\n",
    "        xbest_brute = x\n",
    "    print('case = ' + str(x) + ' cost = ' + str(cost))\n",
    "\n",
    "print('\\nBest solution = ' + str(xbest_brute) + ' cost = ' + str(best_cost_brute))"
   ]
  },
  {
   "cell_type": "code",
   "execution_count": 9,
   "metadata": {},
   "outputs": [
    {
     "data": {
      "text/html": [
       "<h1>QAOA</h1>"
      ],
      "text/plain": [
       "<IPython.core.display.HTML object>"
      ]
     },
     "metadata": {},
     "output_type": "display_data"
    },
    {
     "data": {
      "text/html": [
       "<p>Construct cost operator</p>"
      ],
      "text/plain": [
       "<IPython.core.display.HTML object>"
      ]
     },
     "metadata": {},
     "output_type": "display_data"
    }
   ],
   "source": [
    "display(HTML('<h1>QAOA</h1>'))\n",
    "display(HTML('<p>Construct cost operator</p>'))"
   ]
  },
  {
   "cell_type": "code",
   "execution_count": 12,
   "metadata": {},
   "outputs": [],
   "source": [
    "num_nodes = w.shape[0]\n",
    "pauli_list = []\n",
    "for i in range(num_nodes):\n",
    "    for j in range(i):\n",
    "        if w[i, j] != 0:\n",
    "            xp = np.zeros(num_nodes, dtype=np.bool)\n",
    "            zp = np.zeros(num_nodes, dtype=np.bool)\n",
    "            zp[i] = True\n",
    "            zp[j] = True\n",
    "            pauli_list.append([0.5 * w[i, j], Pauli(zp, xp)])\n",
    "qubitOp = Operator(paulis=pauli_list)"
   ]
  },
  {
   "cell_type": "code",
   "execution_count": 13,
   "metadata": {},
   "outputs": [
    {
     "data": {
      "text/html": [
       "<p>Run QAOA</p>"
      ],
      "text/plain": [
       "<IPython.core.display.HTML object>"
      ]
     },
     "metadata": {},
     "output_type": "display_data"
    }
   ],
   "source": [
    "display(HTML('<p>Run QAOA</p>'))"
   ]
  },
  {
   "cell_type": "code",
   "execution_count": 20,
   "metadata": {},
   "outputs": [
    {
     "name": "stdout",
     "output_type": "stream",
     "text": [
      "{'num_optimizer_evals': 100, 'min_val': -0.67578125, 'opt_params': array([2.60969426, 0.26795845]), 'eval_time': 8.55937910079956, 'eval_count': 100, 'energy': -0.67578125, 'eigvals': array([-0.67578125]), 'min_vector': {'110110': 8, '001110': 11, '111000': 10, '111010': 22, '100000': 12, '011000': 11, '111011': 16, '001001': 12, '101000': 13, '111001': 18, '111111': 3, '000111': 16, '000011': 30, '011111': 7, '111110': 10, '100110': 19, '001000': 4, '111101': 13, '001100': 2, '110010': 7, '000010': 8, '011101': 9, '000101': 22, '010100': 17, '001010': 29, '110101': 11, '010111': 11, '011010': 57, '010001': 10, '100001': 36, '101001': 35, '000000': 5, '011110': 42, '001111': 5, '010101': 15, '000110': 12, '101011': 20, '101101': 25, '110111': 4, '010010': 15, '100111': 18, '000001': 8, '100100': 19, '110011': 3, '010000': 5, '001011': 26, '011001': 13, '011011': 19, '010110': 31, '011100': 19, '001101': 8, '000100': 11, '100011': 12, '010011': 23, '101100': 20, '111100': 15, '101010': 28, '100010': 9, '101110': 15, '110001': 7, '110000': 3, '110100': 21, '100101': 49, '101111': 10}, 'eigvecs': array([{'110110': 8, '001110': 11, '111000': 10, '111010': 22, '100000': 12, '011000': 11, '111011': 16, '001001': 12, '101000': 13, '111001': 18, '111111': 3, '000111': 16, '000011': 30, '011111': 7, '111110': 10, '100110': 19, '001000': 4, '111101': 13, '001100': 2, '110010': 7, '000010': 8, '011101': 9, '000101': 22, '010100': 17, '001010': 29, '110101': 11, '010111': 11, '011010': 57, '010001': 10, '100001': 36, '101001': 35, '000000': 5, '011110': 42, '001111': 5, '010101': 15, '000110': 12, '101011': 20, '101101': 25, '110111': 4, '010010': 15, '100111': 18, '000001': 8, '100100': 19, '110011': 3, '010000': 5, '001011': 26, '011001': 13, '011011': 19, '010110': 31, '011100': 19, '001101': 8, '000100': 11, '100011': 12, '010011': 23, '101100': 20, '111100': 15, '101010': 28, '100010': 9, '101110': 15, '110001': 7, '110000': 3, '110100': 21, '100101': 49, '101111': 10}],\n",
      "      dtype=object)}\n",
      "energy: -0.67578125\n",
      "time: 8.55937910079956\n",
      "solution: [1 0 1 0 0 1]\n"
     ]
    }
   ],
   "source": [
    "n_shots = 1024\n",
    "p_steps = 1\n",
    "\n",
    "backend = BasicAer.get_backend('qasm_simulator')\n",
    "quantum_instance = QuantumInstance(backend, shots=n_shots)\n",
    "\n",
    "qaoa = QAOA(qubitOp, ESCH(max_evals=100), p=p_steps, operator_mode='paulis')\n",
    "result = qaoa.run(quantum_instance)\n",
    "print(result)\n",
    "\n",
    "x = max_cut.sample_most_likely(result['eigvecs'][0])\n",
    "print('energy:', result['energy'])\n",
    "print('time:', result['eval_time'])\n",
    "print('solution:', max_cut.get_graph_solution(x))"
   ]
  },
  {
   "cell_type": "code",
   "execution_count": 15,
   "metadata": {},
   "outputs": [
    {
     "data": {
      "text/html": [
       "<h1>Plot best assignment found</h1>"
      ],
      "text/plain": [
       "<IPython.core.display.HTML object>"
      ]
     },
     "metadata": {},
     "output_type": "display_data"
    }
   ],
   "source": [
    "display(HTML('<h1>Plot best assignment found</h1>'))"
   ]
  },
  {
   "cell_type": "code",
   "execution_count": 16,
   "metadata": {},
   "outputs": [
    {
     "data": {
      "image/png": "[encoded data removed]",
      "text/plain": [
       "<Figure size 432x288 with 1 Axes>"
      ]
     },
     "metadata": {
      "needs_background": "light"
     },
     "output_type": "display_data"
    }
   ],
   "source": [
    "colors = ['r' if max_cut.get_graph_solution(x)[i] == 0 else 'b' for i in range(n)]\n",
    "nx.draw_networkx(G, node_color=colors, node_size=600, alpha=.8, pos=pos)\n",
    "plt.show()"
   ]
  },
  {
   "cell_type": "code",
   "execution_count": 17,
   "metadata": {},
   "outputs": [
    {
     "data": {
      "text/html": [
       "<h1>Plot histogram</h1>"
      ],
      "text/plain": [
       "<IPython.core.display.HTML object>"
      ]
     },
     "metadata": {},
     "output_type": "display_data"
    }
   ],
   "source": [
    "display(HTML('<h1>Plot histogram</h1>'))"
   ]
  },
  {
   "cell_type": "code",
   "execution_count": 21,
   "metadata": {},
   "outputs": [
    {
     "data": {
      "image/png": "[encoded data removed]",
      "text/plain": [
       "<Figure size 1440x720 with 1 Axes>"
      ]
     },
     "metadata": {
      "needs_background": "light"
     },
     "output_type": "display_data"
    }
   ],
   "source": [
    "df = pd.DataFrame.from_dict(result['min_vector'], orient='index') / n_shots\n",
    "df = df.sort_index()\n",
    "barplot = df.plot.bar(legend=False, figsize=(20, 10), fontsize=8)\n",
    "plt.show()"
   ]
  },
  {
   "cell_type": "code",
   "execution_count": null,
   "metadata": {},
   "outputs": [],
   "source": []
  }
 ],
 "metadata": {
  "kernelspec": {
   "display_name": "Python 3",
   "language": "python",
   "name": "python3"
  },
  "language_info": {
   "codemirror_mode": {
    "name": "ipython",
    "version": 3
   },
   "file_extension": ".py",
   "mimetype": "text/x-python",
   "name": "python",
   "nbconvert_exporter": "python",
   "pygments_lexer": "ipython3",
   "version": "3.7.3"
  }
 },
 "nbformat": 4,
 "nbformat_minor": 2
}
